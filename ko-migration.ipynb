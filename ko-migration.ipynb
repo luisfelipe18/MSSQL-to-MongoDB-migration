{
 "cells": [
  {
   "cell_type": "code",
   "execution_count": 4,
   "metadata": {
    "collapsed": true
   },
   "outputs": [],
   "source": [
    "import pandas as pd\n",
    "import mongoengine as me\n",
    "from sqlalchemy.engine import URL\n",
    "from sqlalchemy import create_engine"
   ]
  },
  {
   "cell_type": "markdown",
   "source": [
    "# Conexion con SQL Server y MongoDB"
   ],
   "metadata": {
    "collapsed": false
   }
  },
  {
   "cell_type": "code",
   "execution_count": 5,
   "outputs": [
    {
     "data": {
      "text/plain": "MongoClient(host=['localhost:27017'], document_class=dict, tz_aware=False, connect=True, read_preference=Primary(), uuidrepresentation=3)"
     },
     "execution_count": 5,
     "metadata": {},
     "output_type": "execute_result"
    }
   ],
   "source": [
    "#conectando a MongoDB\n",
    "me.connect('ko_database_main')"
   ],
   "metadata": {
    "collapsed": false,
    "pycharm": {
     "name": "#%%\n"
    }
   }
  },
  {
   "cell_type": "code",
   "execution_count": 6,
   "outputs": [],
   "source": [
    "connection_string = \"DRIVER={ODBC Driver 11 for SQL Server};SERVER=XXXXXX;DATABASE=KO_DATABASE_MAIN;UID=sa;PWD=XXX\"\n",
    "connection_url = URL.create(\"mssql+pyodbc\", query={\"odbc_connect\": connection_string})\n",
    "engine = create_engine(connection_url)\n",
    "make_query = lambda x: pd.read_sql(x, engine)"
   ],
   "metadata": {
    "collapsed": false,
    "pycharm": {
     "name": "#%%\n"
    }
   }
  },
  {
   "cell_type": "markdown",
   "source": [
    "### test de la conexion a SQL SERVER"
   ],
   "metadata": {
    "collapsed": false
   }
  },
  {
   "cell_type": "code",
   "execution_count": 19,
   "outputs": [
    {
     "data": {
      "text/plain": "   MaintenanceMode  CharacterSelectLogin  OpenOTP  AutoRegister  FreeLimit  \\\n0                0                     1        0             0        300   \n\n   TotalUserLimit ServerIPAddress  \n0             300  18.190.138.145  ",
      "text/html": "<div>\n<style scoped>\n    .dataframe tbody tr th:only-of-type {\n        vertical-align: middle;\n    }\n\n    .dataframe tbody tr th {\n        vertical-align: top;\n    }\n\n    .dataframe thead th {\n        text-align: right;\n    }\n</style>\n<table border=\"1\" class=\"dataframe\">\n  <thead>\n    <tr style=\"text-align: right;\">\n      <th></th>\n      <th>MaintenanceMode</th>\n      <th>CharacterSelectLogin</th>\n      <th>OpenOTP</th>\n      <th>AutoRegister</th>\n      <th>FreeLimit</th>\n      <th>TotalUserLimit</th>\n      <th>ServerIPAddress</th>\n    </tr>\n  </thead>\n  <tbody>\n    <tr>\n      <th>0</th>\n      <td>0</td>\n      <td>1</td>\n      <td>0</td>\n      <td>0</td>\n      <td>300</td>\n      <td>300</td>\n      <td>18.190.138.145</td>\n    </tr>\n  </tbody>\n</table>\n</div>"
     },
     "execution_count": 19,
     "metadata": {},
     "output_type": "execute_result"
    }
   ],
   "source": [
    "make_query('select * from GAME_OPTIONS').head(5)"
   ],
   "metadata": {
    "collapsed": false,
    "pycharm": {
     "name": "#%%\n"
    }
   }
  },
  {
   "cell_type": "markdown",
   "source": [
    "### test de la conexion a mongodb"
   ],
   "metadata": {
    "collapsed": false
   }
  },
  {
   "cell_type": "code",
   "execution_count": 8,
   "outputs": [
    {
     "name": "stdout",
     "output_type": "stream",
     "text": [
      "bye\n"
     ]
    }
   ],
   "source": [
    "class dummy(me.Document):\n",
    "    hi = me.StringField()\n",
    "\n",
    "for document in dummy.objects:\n",
    "    print(document.hi)"
   ],
   "metadata": {
    "collapsed": false,
    "pycharm": {
     "name": "#%%\n"
    }
   }
  },
  {
   "cell_type": "markdown",
   "source": [
    "# Mapeando SQL types hacia MongoDB documents"
   ],
   "metadata": {
    "collapsed": false
   }
  },
  {
   "cell_type": "code",
   "execution_count": 20,
   "outputs": [
    {
     "data": {
      "text/plain": "  DATA_TYPE\n0      char\n1  datetime\n2       int\n3  smallint\n4   tinyint\n5   varchar",
      "text/html": "<div>\n<style scoped>\n    .dataframe tbody tr th:only-of-type {\n        vertical-align: middle;\n    }\n\n    .dataframe tbody tr th {\n        vertical-align: top;\n    }\n\n    .dataframe thead th {\n        text-align: right;\n    }\n</style>\n<table border=\"1\" class=\"dataframe\">\n  <thead>\n    <tr style=\"text-align: right;\">\n      <th></th>\n      <th>DATA_TYPE</th>\n    </tr>\n  </thead>\n  <tbody>\n    <tr>\n      <th>0</th>\n      <td>char</td>\n    </tr>\n    <tr>\n      <th>1</th>\n      <td>datetime</td>\n    </tr>\n    <tr>\n      <th>2</th>\n      <td>int</td>\n    </tr>\n    <tr>\n      <th>3</th>\n      <td>smallint</td>\n    </tr>\n    <tr>\n      <th>4</th>\n      <td>tinyint</td>\n    </tr>\n    <tr>\n      <th>5</th>\n      <td>varchar</td>\n    </tr>\n  </tbody>\n</table>\n</div>"
     },
     "execution_count": 20,
     "metadata": {},
     "output_type": "execute_result"
    }
   ],
   "source": [
    "make_query('SELECT distinct DATA_TYPE FROM INFORMATION_SCHEMA.COLUMNS')"
   ],
   "metadata": {
    "collapsed": false,
    "pycharm": {
     "name": "#%%\n"
    }
   }
  },
  {
   "cell_type": "code",
   "execution_count": 10,
   "outputs": [],
   "source": [
    "# mapeo hacia documentDB e importacion de los documentos requeridos.\n",
    "from mongoengine import StringField, DateTimeField, IntField\n",
    "map_data_types = {\n",
    "    'char' : 'StringField',\n",
    "    'datetime' : 'DateTimeField',\n",
    "    'int' : 'IntField',\n",
    "    'smallint' : 'IntField',\n",
    "    'tinyint' : 'IntField',\n",
    "    'varchar' : 'StringField'\n",
    "}"
   ],
   "metadata": {
    "collapsed": false,
    "pycharm": {
     "name": "#%%\n"
    }
   }
  },
  {
   "cell_type": "code",
   "execution_count": 18,
   "outputs": [
    {
     "data": {
      "text/plain": "              TABLE_NAME\n0   GM_MAINTENANCE_LOGIN\n1           SERVER_CLEAN\n2        SERVER_SETTINGS\n3           GAME_OPTIONS\n4      BEGINNER_SETTINGS\n5   GAME_MASTER_SETTINGS\n6  ACCOUNT_LOGIN_CONTROL",
      "text/html": "<div>\n<style scoped>\n    .dataframe tbody tr th:only-of-type {\n        vertical-align: middle;\n    }\n\n    .dataframe tbody tr th {\n        vertical-align: top;\n    }\n\n    .dataframe thead th {\n        text-align: right;\n    }\n</style>\n<table border=\"1\" class=\"dataframe\">\n  <thead>\n    <tr style=\"text-align: right;\">\n      <th></th>\n      <th>TABLE_NAME</th>\n    </tr>\n  </thead>\n  <tbody>\n    <tr>\n      <th>0</th>\n      <td>GM_MAINTENANCE_LOGIN</td>\n    </tr>\n    <tr>\n      <th>1</th>\n      <td>SERVER_CLEAN</td>\n    </tr>\n    <tr>\n      <th>2</th>\n      <td>SERVER_SETTINGS</td>\n    </tr>\n    <tr>\n      <th>3</th>\n      <td>GAME_OPTIONS</td>\n    </tr>\n    <tr>\n      <th>4</th>\n      <td>BEGINNER_SETTINGS</td>\n    </tr>\n    <tr>\n      <th>5</th>\n      <td>GAME_MASTER_SETTINGS</td>\n    </tr>\n    <tr>\n      <th>6</th>\n      <td>ACCOUNT_LOGIN_CONTROL</td>\n    </tr>\n  </tbody>\n</table>\n</div>"
     },
     "execution_count": 18,
     "metadata": {},
     "output_type": "execute_result"
    }
   ],
   "source": [
    "#Obtenemos las tablas\n",
    "tables_names = make_query(\"SELECT TABLE_NAME FROM KO_DATABASE_MAIN.INFORMATION_SCHEMA.TABLES;\")\n",
    "tables_names.head(10)"
   ],
   "metadata": {
    "collapsed": false,
    "pycharm": {
     "name": "#%%\n"
    }
   }
  },
  {
   "cell_type": "code",
   "execution_count": 17,
   "outputs": [
    {
     "data": {
      "text/plain": "    COLUMN_NAME DATA_TYPE\n0      ServerNo  smallint\n1  BeginnerType   tinyint\n2  BeginnerDesc   varchar",
      "text/html": "<div>\n<style scoped>\n    .dataframe tbody tr th:only-of-type {\n        vertical-align: middle;\n    }\n\n    .dataframe tbody tr th {\n        vertical-align: top;\n    }\n\n    .dataframe thead th {\n        text-align: right;\n    }\n</style>\n<table border=\"1\" class=\"dataframe\">\n  <thead>\n    <tr style=\"text-align: right;\">\n      <th></th>\n      <th>COLUMN_NAME</th>\n      <th>DATA_TYPE</th>\n    </tr>\n  </thead>\n  <tbody>\n    <tr>\n      <th>0</th>\n      <td>ServerNo</td>\n      <td>smallint</td>\n    </tr>\n    <tr>\n      <th>1</th>\n      <td>BeginnerType</td>\n      <td>tinyint</td>\n    </tr>\n    <tr>\n      <th>2</th>\n      <td>BeginnerDesc</td>\n      <td>varchar</td>\n    </tr>\n  </tbody>\n</table>\n</div>"
     },
     "execution_count": 17,
     "metadata": {},
     "output_type": "execute_result"
    }
   ],
   "source": [
    "# query para obtener las columnas y sus tipos de datos para cada tabla.\n",
    "tabla_test_info =make_query(\"SELECT COLUMN_NAME, DATA_TYPE FROM INFORMATION_SCHEMA.COLUMNS WHERE TABLE_NAME = 'BEGINNER_SETTINGS'\")\n",
    "tabla_test_info.head(5)"
   ],
   "metadata": {
    "collapsed": false,
    "pycharm": {
     "name": "#%%\n"
    }
   }
  },
  {
   "cell_type": "markdown",
   "source": [
    "# Escritura de MongoEngine Documents"
   ],
   "metadata": {
    "collapsed": false,
    "pycharm": {
     "name": "#%% md\n"
    }
   }
  },
  {
   "cell_type": "code",
   "execution_count": 13,
   "outputs": [],
   "source": [
    "!del MongoEngineDocuments.py\n",
    "with open('MongoEngineDocuments.py','a+') as my_python_file:\n",
    "    print(f'from mongoengine import Document, ', end='', file=my_python_file)\n",
    "    print(*set(map_data_types.values()),sep=', ', end='\\n\\n', file=my_python_file)\n",
    "    for TABLE_NAME in tables_names.TABLE_NAME:\n",
    "        print(f'class {TABLE_NAME}(Document):', file=my_python_file)\n",
    "        for a,b in make_query(\n",
    "                f\"SELECT COLUMN_NAME, DATA_TYPE FROM INFORMATION_SCHEMA.COLUMNS WHERE TABLE_NAME = '{TABLE_NAME}'\"\n",
    "        ).iterrows():\n",
    "            print(f'    {b.COLUMN_NAME} = {map_data_types[b.DATA_TYPE]}()', file=my_python_file)\n",
    "        print(f\"    meta = {{'collection': '{TABLE_NAME}'}}\", end='\\n\\n', file=my_python_file)"
   ],
   "metadata": {
    "collapsed": false,
    "pycharm": {
     "name": "#%%\n"
    }
   }
  },
  {
   "cell_type": "code",
   "execution_count": 14,
   "outputs": [],
   "source": [
    "# ahora cargamos todos los documentos creados\n",
    "from MongoEngineDocuments import *"
   ],
   "metadata": {
    "collapsed": false,
    "pycharm": {
     "name": "#%%\n"
    }
   }
  },
  {
   "cell_type": "markdown",
   "source": [
    "# Trasladando los datos desde MSSQL hacia DocumentDB"
   ],
   "metadata": {
    "collapsed": false,
    "pycharm": {
     "name": "#%% md\n"
    }
   }
  },
  {
   "cell_type": "code",
   "execution_count": 15,
   "outputs": [
    {
     "name": "stdout",
     "output_type": "stream",
     "text": [
      "Coleccion vacia: GM_MAINTENANCE_LOGIN. No generara problemas futuros.\n",
      "Loading table  SERVER_CLEAN\n",
      "Loading table  SERVER_SETTINGS\n",
      "Loading table  GAME_OPTIONS\n",
      "Loading table  BEGINNER_SETTINGS\n",
      "Loading table  GAME_MASTER_SETTINGS\n",
      "Coleccion vacia: ACCOUNT_LOGIN_CONTROL. No generara problemas futuros.\n"
     ]
    }
   ],
   "source": [
    "for TABLE_NAME in tables_names.TABLE_NAME:\n",
    "    BASE_QUERY = f'Select * from {TABLE_NAME}'\n",
    "    data_records = make_query(BASE_QUERY).to_dict(\"records\")\n",
    "    records_instances = [eval(TABLE_NAME)(**data) for data in data_records]\n",
    "    if records_instances:\n",
    "        print(f'Loading table  {TABLE_NAME}')\n",
    "        eval(TABLE_NAME).objects.insert(records_instances, load_bulk=False)\n",
    "    else:\n",
    "        print(f'Coleccion vacia: {TABLE_NAME}. No generara problemas futuros.')"
   ],
   "metadata": {
    "collapsed": false,
    "pycharm": {
     "name": "#%%\n"
    }
   }
  },
  {
   "cell_type": "markdown",
   "source": [],
   "metadata": {
    "collapsed": false,
    "pycharm": {
     "name": "#%% md\n"
    }
   }
  }
 ],
 "metadata": {
  "kernelspec": {
   "display_name": "Python 3",
   "language": "python",
   "name": "python3"
  },
  "language_info": {
   "codemirror_mode": {
    "name": "ipython",
    "version": 2
   },
   "file_extension": ".py",
   "mimetype": "text/x-python",
   "name": "python",
   "nbconvert_exporter": "python",
   "pygments_lexer": "ipython2",
   "version": "2.7.6"
  }
 },
 "nbformat": 4,
 "nbformat_minor": 0
}